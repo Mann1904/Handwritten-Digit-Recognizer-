{
 "cells": [
  {
   "cell_type": "code",
   "execution_count": 1,
   "metadata": {
    "_cell_guid": "79c7e3d0-c299-4dcb-8224-4455121ee9b0",
    "_uuid": "d629ff2d2480ee46fbb7e2d37f6b5fab8052498a",
    "execution": {
     "iopub.execute_input": "2020-10-29T17:04:44.807218Z",
     "iopub.status.busy": "2020-10-29T17:04:44.806433Z",
     "iopub.status.idle": "2020-10-29T17:04:51.395912Z",
     "shell.execute_reply": "2020-10-29T17:04:51.395276Z"
    },
    "papermill": {
     "duration": 6.612026,
     "end_time": "2020-10-29T17:04:51.396045",
     "exception": false,
     "start_time": "2020-10-29T17:04:44.784019",
     "status": "completed"
    },
    "tags": []
   },
   "outputs": [
    {
     "name": "stderr",
     "output_type": "stream",
     "text": [
      "Using TensorFlow backend.\n"
     ]
    }
   ],
   "source": [
    "from sklearn.metrics import accuracy_score\n",
    "from keras.preprocessing import image\n",
    "from keras.models import Sequential\n",
    "from keras.layers import Conv2D\n",
    "from keras.layers import Dense\n",
    "from keras.layers import MaxPooling2D\n",
    "from keras.layers import Flatten\n",
    "import pandas as pd\n",
    "import json\n",
    "import numpy as np\n",
    "from sklearn.model_selection import train_test_split\n",
    "from keras.preprocessing.image import ImageDataGenerator"
   ]
  },
  {
   "cell_type": "markdown",
   "metadata": {
    "papermill": {
     "duration": 0.014863,
     "end_time": "2020-10-29T17:04:51.426872",
     "exception": false,
     "start_time": "2020-10-29T17:04:51.412009",
     "status": "completed"
    },
    "tags": []
   },
   "source": [
    "# Data preparation"
   ]
  },
  {
   "cell_type": "markdown",
   "metadata": {
    "papermill": {
     "duration": 0.015431,
     "end_time": "2020-10-29T17:04:51.457205",
     "exception": false,
     "start_time": "2020-10-29T17:04:51.441774",
     "status": "completed"
    },
    "tags": []
   },
   "source": [
    "## Load Data"
   ]
  },
  {
   "cell_type": "code",
   "execution_count": 2,
   "metadata": {
    "execution": {
     "iopub.execute_input": "2020-10-29T17:04:51.496413Z",
     "iopub.status.busy": "2020-10-29T17:04:51.495666Z",
     "iopub.status.idle": "2020-10-29T17:04:56.681983Z",
     "shell.execute_reply": "2020-10-29T17:04:56.680797Z"
    },
    "papermill": {
     "duration": 5.209065,
     "end_time": "2020-10-29T17:04:56.682134",
     "exception": false,
     "start_time": "2020-10-29T17:04:51.473069",
     "status": "completed"
    },
    "tags": []
   },
   "outputs": [],
   "source": [
    "# Load the data\n",
    "train = pd.read_csv(\"../input/digit-recognizer/train.csv\")\n",
    "test = pd.read_csv(\"../input/digit-recognizer/test.csv\")"
   ]
  },
  {
   "cell_type": "code",
   "execution_count": 3,
   "metadata": {
    "execution": {
     "iopub.execute_input": "2020-10-29T17:04:56.810213Z",
     "iopub.status.busy": "2020-10-29T17:04:56.808114Z",
     "iopub.status.idle": "2020-10-29T17:04:56.810927Z",
     "shell.execute_reply": "2020-10-29T17:04:56.811442Z"
    },
    "papermill": {
     "duration": 0.113794,
     "end_time": "2020-10-29T17:04:56.811584",
     "exception": false,
     "start_time": "2020-10-29T17:04:56.697790",
     "status": "completed"
    },
    "tags": []
   },
   "outputs": [],
   "source": [
    "y_train = train['label']\n",
    "\n",
    "# drop label column\n",
    "X_train = train.drop(['label'],axis=1)\n",
    "\n",
    "del train"
   ]
  },
  {
   "cell_type": "markdown",
   "metadata": {
    "papermill": {
     "duration": 0.015536,
     "end_time": "2020-10-29T17:04:56.843205",
     "exception": false,
     "start_time": "2020-10-29T17:04:56.827669",
     "status": "completed"
    },
    "tags": []
   },
   "source": [
    "## Normalization "
   ]
  },
  {
   "cell_type": "code",
   "execution_count": 4,
   "metadata": {
    "execution": {
     "iopub.execute_input": "2020-10-29T17:04:56.881535Z",
     "iopub.status.busy": "2020-10-29T17:04:56.880822Z",
     "iopub.status.idle": "2020-10-29T17:04:57.071675Z",
     "shell.execute_reply": "2020-10-29T17:04:57.071073Z"
    },
    "papermill": {
     "duration": 0.21144,
     "end_time": "2020-10-29T17:04:57.071808",
     "exception": false,
     "start_time": "2020-10-29T17:04:56.860368",
     "status": "completed"
    },
    "tags": []
   },
   "outputs": [],
   "source": [
    "# Normalize the data\n",
    "X_train = X_train/255.0\n",
    "test = test/255.0"
   ]
  },
  {
   "cell_type": "markdown",
   "metadata": {
    "papermill": {
     "duration": 0.014912,
     "end_time": "2020-10-29T17:04:57.103374",
     "exception": false,
     "start_time": "2020-10-29T17:04:57.088462",
     "status": "completed"
    },
    "tags": []
   },
   "source": [
    "## Reshape"
   ]
  },
  {
   "cell_type": "code",
   "execution_count": 5,
   "metadata": {
    "execution": {
     "iopub.execute_input": "2020-10-29T17:04:57.141182Z",
     "iopub.status.busy": "2020-10-29T17:04:57.140486Z",
     "iopub.status.idle": "2020-10-29T17:04:57.144444Z",
     "shell.execute_reply": "2020-10-29T17:04:57.143854Z"
    },
    "papermill": {
     "duration": 0.025168,
     "end_time": "2020-10-29T17:04:57.144593",
     "exception": false,
     "start_time": "2020-10-29T17:04:57.119425",
     "status": "completed"
    },
    "tags": []
   },
   "outputs": [],
   "source": [
    "# Reshape image in 3 dimensions (height = 28px, width = 28px , canal = 1)\n",
    "X_train = X_train.values.reshape(-1,28,28,1)\n",
    "test = test.values.reshape(-1,28,28,1)"
   ]
  },
  {
   "cell_type": "markdown",
   "metadata": {
    "papermill": {
     "duration": 0.015731,
     "end_time": "2020-10-29T17:04:57.176731",
     "exception": false,
     "start_time": "2020-10-29T17:04:57.161000",
     "status": "completed"
    },
    "tags": []
   },
   "source": [
    "## Split train and validation set "
   ]
  },
  {
   "cell_type": "code",
   "execution_count": 6,
   "metadata": {
    "execution": {
     "iopub.execute_input": "2020-10-29T17:04:57.213579Z",
     "iopub.status.busy": "2020-10-29T17:04:57.212892Z",
     "iopub.status.idle": "2020-10-29T17:04:57.587620Z",
     "shell.execute_reply": "2020-10-29T17:04:57.586952Z"
    },
    "papermill": {
     "duration": 0.395602,
     "end_time": "2020-10-29T17:04:57.587745",
     "exception": false,
     "start_time": "2020-10-29T17:04:57.192143",
     "status": "completed"
    },
    "tags": []
   },
   "outputs": [],
   "source": [
    "# split the data\n",
    "X_train,X_val,y_train,y_val = train_test_split(X_train,y_train,test_size=0.1,random_state=42)"
   ]
  },
  {
   "cell_type": "markdown",
   "metadata": {
    "papermill": {
     "duration": 0.015119,
     "end_time": "2020-10-29T17:04:57.618773",
     "exception": false,
     "start_time": "2020-10-29T17:04:57.603654",
     "status": "completed"
    },
    "tags": []
   },
   "source": [
    "# CNN"
   ]
  },
  {
   "cell_type": "markdown",
   "metadata": {
    "papermill": {
     "duration": 0.016281,
     "end_time": "2020-10-29T17:04:57.650858",
     "exception": false,
     "start_time": "2020-10-29T17:04:57.634577",
     "status": "completed"
    },
    "tags": []
   },
   "source": [
    "## Define The Model "
   ]
  },
  {
   "cell_type": "code",
   "execution_count": 7,
   "metadata": {
    "execution": {
     "iopub.execute_input": "2020-10-29T17:04:57.692805Z",
     "iopub.status.busy": "2020-10-29T17:04:57.692059Z",
     "iopub.status.idle": "2020-10-29T17:05:01.075407Z",
     "shell.execute_reply": "2020-10-29T17:05:01.074578Z"
    },
    "papermill": {
     "duration": 3.408499,
     "end_time": "2020-10-29T17:05:01.075534",
     "exception": false,
     "start_time": "2020-10-29T17:04:57.667035",
     "status": "completed"
    },
    "tags": []
   },
   "outputs": [],
   "source": [
    "# set the CNN model\n",
    "classifier = Sequential()\n",
    "\n",
    "classifier.add(Conv2D(6,(5,5), input_shape = (28,28,1),activation='relu'))\n",
    "classifier.add(MaxPooling2D(pool_size=(2,2)))\n",
    "\n",
    "classifier.add(Conv2D(16,(5,5),activation = 'relu'))\n",
    "classifier.add(MaxPooling2D(pool_size=(2,2)))\n",
    "\n",
    "classifier.add(Flatten())\n",
    "classifier.add(Dense(units=120,activation='relu'))\n",
    "\n",
    "classifier.add(Dense(units=84,activation='relu'))\n",
    "\n",
    "classifier.add(Dense(units=10,activation='softmax'))\n",
    "\n",
    "classifier.compile(optimizer = 'adam', loss='sparse_categorical_crossentropy', metrics = ['accuracy'])"
   ]
  },
  {
   "cell_type": "markdown",
   "metadata": {
    "papermill": {
     "duration": 0.015373,
     "end_time": "2020-10-29T17:05:01.107155",
     "exception": false,
     "start_time": "2020-10-29T17:05:01.091782",
     "status": "completed"
    },
    "tags": []
   },
   "source": [
    "## Data Augmentation "
   ]
  },
  {
   "cell_type": "code",
   "execution_count": 8,
   "metadata": {
    "execution": {
     "iopub.execute_input": "2020-10-29T17:05:01.146100Z",
     "iopub.status.busy": "2020-10-29T17:05:01.144823Z",
     "iopub.status.idle": "2020-10-29T17:05:01.241188Z",
     "shell.execute_reply": "2020-10-29T17:05:01.240527Z"
    },
    "papermill": {
     "duration": 0.117858,
     "end_time": "2020-10-29T17:05:01.241325",
     "exception": false,
     "start_time": "2020-10-29T17:05:01.123467",
     "status": "completed"
    },
    "tags": []
   },
   "outputs": [],
   "source": [
    "# data augmentation\n",
    "datagen = ImageDataGenerator(rotation_range=10,\n",
    "                             width_shift_range=0.1,\n",
    "                             zoom_range=0.1,\n",
    "                             height_shift_range=0.1)\n",
    "datagen.fit(X_train)"
   ]
  },
  {
   "cell_type": "code",
   "execution_count": 9,
   "metadata": {
    "execution": {
     "iopub.execute_input": "2020-10-29T17:05:01.281904Z",
     "iopub.status.busy": "2020-10-29T17:05:01.280688Z",
     "iopub.status.idle": "2020-10-29T17:26:03.521005Z",
     "shell.execute_reply": "2020-10-29T17:26:03.521775Z"
    },
    "papermill": {
     "duration": 1262.263661,
     "end_time": "2020-10-29T17:26:03.521953",
     "exception": false,
     "start_time": "2020-10-29T17:05:01.258292",
     "status": "completed"
    },
    "tags": []
   },
   "outputs": [
    {
     "name": "stdout",
     "output_type": "stream",
     "text": [
      "Epoch 1/100\n",
      " - 17s - loss: 0.7212 - accuracy: 0.7693 - val_loss: 0.1831 - val_accuracy: 0.9424\n",
      "Epoch 2/100\n",
      " - 12s - loss: 0.2348 - accuracy: 0.9282 - val_loss: 0.1085 - val_accuracy: 0.9671\n",
      "Epoch 3/100\n",
      " - 12s - loss: 0.1801 - accuracy: 0.9442 - val_loss: 0.0983 - val_accuracy: 0.9710\n",
      "Epoch 4/100\n",
      " - 13s - loss: 0.1487 - accuracy: 0.9547 - val_loss: 0.0878 - val_accuracy: 0.9721\n",
      "Epoch 5/100\n",
      " - 12s - loss: 0.1278 - accuracy: 0.9617 - val_loss: 0.0736 - val_accuracy: 0.9788\n",
      "Epoch 6/100\n",
      " - 13s - loss: 0.1217 - accuracy: 0.9629 - val_loss: 0.0636 - val_accuracy: 0.9807\n",
      "Epoch 7/100\n",
      " - 12s - loss: 0.1016 - accuracy: 0.9677 - val_loss: 0.0669 - val_accuracy: 0.9793\n",
      "Epoch 8/100\n",
      " - 12s - loss: 0.0982 - accuracy: 0.9697 - val_loss: 0.0600 - val_accuracy: 0.9793\n",
      "Epoch 9/100\n",
      " - 13s - loss: 0.0883 - accuracy: 0.9725 - val_loss: 0.0512 - val_accuracy: 0.9845\n",
      "Epoch 10/100\n",
      " - 13s - loss: 0.0863 - accuracy: 0.9740 - val_loss: 0.0537 - val_accuracy: 0.9833\n",
      "Epoch 11/100\n",
      " - 14s - loss: 0.0788 - accuracy: 0.9750 - val_loss: 0.0497 - val_accuracy: 0.9838\n",
      "Epoch 12/100\n",
      " - 12s - loss: 0.0772 - accuracy: 0.9754 - val_loss: 0.0436 - val_accuracy: 0.9864\n",
      "Epoch 13/100\n",
      " - 12s - loss: 0.0723 - accuracy: 0.9767 - val_loss: 0.0507 - val_accuracy: 0.9843\n",
      "Epoch 14/100\n",
      " - 13s - loss: 0.0654 - accuracy: 0.9791 - val_loss: 0.0483 - val_accuracy: 0.9860\n",
      "Epoch 15/100\n",
      " - 13s - loss: 0.0634 - accuracy: 0.9792 - val_loss: 0.0446 - val_accuracy: 0.9864\n",
      "Epoch 16/100\n",
      " - 13s - loss: 0.0598 - accuracy: 0.9813 - val_loss: 0.0399 - val_accuracy: 0.9886\n",
      "Epoch 17/100\n",
      " - 12s - loss: 0.0587 - accuracy: 0.9810 - val_loss: 0.0367 - val_accuracy: 0.9874\n",
      "Epoch 18/100\n",
      " - 12s - loss: 0.0574 - accuracy: 0.9816 - val_loss: 0.0446 - val_accuracy: 0.9850\n",
      "Epoch 19/100\n",
      " - 13s - loss: 0.0583 - accuracy: 0.9806 - val_loss: 0.0412 - val_accuracy: 0.9886\n",
      "Epoch 20/100\n",
      " - 13s - loss: 0.0523 - accuracy: 0.9834 - val_loss: 0.0463 - val_accuracy: 0.9857\n",
      "Epoch 21/100\n",
      " - 13s - loss: 0.0534 - accuracy: 0.9829 - val_loss: 0.0397 - val_accuracy: 0.9862\n",
      "Epoch 22/100\n",
      " - 12s - loss: 0.0499 - accuracy: 0.9836 - val_loss: 0.0378 - val_accuracy: 0.9888\n",
      "Epoch 23/100\n",
      " - 12s - loss: 0.0485 - accuracy: 0.9841 - val_loss: 0.0565 - val_accuracy: 0.9817\n",
      "Epoch 24/100\n",
      " - 14s - loss: 0.0488 - accuracy: 0.9841 - val_loss: 0.0382 - val_accuracy: 0.9888\n",
      "Epoch 25/100\n",
      " - 12s - loss: 0.0465 - accuracy: 0.9858 - val_loss: 0.0360 - val_accuracy: 0.9900\n",
      "Epoch 26/100\n",
      " - 12s - loss: 0.0463 - accuracy: 0.9850 - val_loss: 0.0417 - val_accuracy: 0.9862\n",
      "Epoch 27/100\n",
      " - 13s - loss: 0.0453 - accuracy: 0.9848 - val_loss: 0.0369 - val_accuracy: 0.9895\n",
      "Epoch 28/100\n",
      " - 12s - loss: 0.0452 - accuracy: 0.9856 - val_loss: 0.0309 - val_accuracy: 0.9900\n",
      "Epoch 29/100\n",
      " - 13s - loss: 0.0449 - accuracy: 0.9851 - val_loss: 0.0381 - val_accuracy: 0.9881\n",
      "Epoch 30/100\n",
      " - 13s - loss: 0.0427 - accuracy: 0.9865 - val_loss: 0.0336 - val_accuracy: 0.9907\n",
      "Epoch 31/100\n",
      " - 12s - loss: 0.0398 - accuracy: 0.9874 - val_loss: 0.0346 - val_accuracy: 0.9890\n",
      "Epoch 32/100\n",
      " - 13s - loss: 0.0420 - accuracy: 0.9863 - val_loss: 0.0400 - val_accuracy: 0.9883\n",
      "Epoch 33/100\n",
      " - 12s - loss: 0.0425 - accuracy: 0.9863 - val_loss: 0.0388 - val_accuracy: 0.9888\n",
      "Epoch 34/100\n",
      " - 14s - loss: 0.0396 - accuracy: 0.9876 - val_loss: 0.0265 - val_accuracy: 0.9917\n",
      "Epoch 35/100\n",
      " - 12s - loss: 0.0389 - accuracy: 0.9882 - val_loss: 0.0393 - val_accuracy: 0.9886\n",
      "Epoch 36/100\n",
      " - 12s - loss: 0.0368 - accuracy: 0.9884 - val_loss: 0.0370 - val_accuracy: 0.9900\n",
      "Epoch 37/100\n",
      " - 13s - loss: 0.0379 - accuracy: 0.9875 - val_loss: 0.0359 - val_accuracy: 0.9888\n",
      "Epoch 38/100\n",
      " - 12s - loss: 0.0362 - accuracy: 0.9878 - val_loss: 0.0344 - val_accuracy: 0.9900\n",
      "Epoch 39/100\n",
      " - 14s - loss: 0.0369 - accuracy: 0.9879 - val_loss: 0.0395 - val_accuracy: 0.9890\n",
      "Epoch 40/100\n",
      " - 12s - loss: 0.0364 - accuracy: 0.9877 - val_loss: 0.0390 - val_accuracy: 0.9874\n",
      "Epoch 41/100\n",
      " - 12s - loss: 0.0364 - accuracy: 0.9879 - val_loss: 0.0358 - val_accuracy: 0.9895\n",
      "Epoch 42/100\n",
      " - 13s - loss: 0.0358 - accuracy: 0.9882 - val_loss: 0.0392 - val_accuracy: 0.9867\n",
      "Epoch 43/100\n",
      " - 13s - loss: 0.0329 - accuracy: 0.9894 - val_loss: 0.0365 - val_accuracy: 0.9893\n",
      "Epoch 44/100\n",
      " - 14s - loss: 0.0336 - accuracy: 0.9893 - val_loss: 0.0475 - val_accuracy: 0.9852\n",
      "Epoch 45/100\n",
      " - 12s - loss: 0.0321 - accuracy: 0.9894 - val_loss: 0.0318 - val_accuracy: 0.9902\n",
      "Epoch 46/100\n",
      " - 12s - loss: 0.0332 - accuracy: 0.9889 - val_loss: 0.0400 - val_accuracy: 0.9900\n",
      "Epoch 47/100\n",
      " - 13s - loss: 0.0337 - accuracy: 0.9894 - val_loss: 0.0407 - val_accuracy: 0.9883\n",
      "Epoch 48/100\n",
      " - 13s - loss: 0.0307 - accuracy: 0.9900 - val_loss: 0.0350 - val_accuracy: 0.9888\n",
      "Epoch 49/100\n",
      " - 12s - loss: 0.0340 - accuracy: 0.9886 - val_loss: 0.0400 - val_accuracy: 0.9888\n",
      "Epoch 50/100\n",
      " - 12s - loss: 0.0297 - accuracy: 0.9905 - val_loss: 0.0361 - val_accuracy: 0.9881\n",
      "Epoch 51/100\n",
      " - 12s - loss: 0.0318 - accuracy: 0.9895 - val_loss: 0.0384 - val_accuracy: 0.9879\n",
      "Epoch 52/100\n",
      " - 13s - loss: 0.0299 - accuracy: 0.9912 - val_loss: 0.0328 - val_accuracy: 0.9912\n",
      "Epoch 53/100\n",
      " - 13s - loss: 0.0298 - accuracy: 0.9902 - val_loss: 0.0405 - val_accuracy: 0.9879\n",
      "Epoch 54/100\n",
      " - 12s - loss: 0.0288 - accuracy: 0.9911 - val_loss: 0.0333 - val_accuracy: 0.9902\n",
      "Epoch 55/100\n",
      " - 13s - loss: 0.0301 - accuracy: 0.9908 - val_loss: 0.0395 - val_accuracy: 0.9881\n",
      "Epoch 56/100\n",
      " - 12s - loss: 0.0273 - accuracy: 0.9913 - val_loss: 0.0392 - val_accuracy: 0.9883\n",
      "Epoch 57/100\n",
      " - 13s - loss: 0.0298 - accuracy: 0.9896 - val_loss: 0.0348 - val_accuracy: 0.9905\n",
      "Epoch 58/100\n",
      " - 14s - loss: 0.0286 - accuracy: 0.9909 - val_loss: 0.0323 - val_accuracy: 0.9912\n",
      "Epoch 59/100\n",
      " - 12s - loss: 0.0264 - accuracy: 0.9916 - val_loss: 0.0428 - val_accuracy: 0.9871\n",
      "Epoch 60/100\n",
      " - 12s - loss: 0.0285 - accuracy: 0.9903 - val_loss: 0.0538 - val_accuracy: 0.9862\n",
      "Epoch 61/100\n",
      " - 12s - loss: 0.0289 - accuracy: 0.9910 - val_loss: 0.0340 - val_accuracy: 0.9893\n",
      "Epoch 62/100\n",
      " - 13s - loss: 0.0289 - accuracy: 0.9907 - val_loss: 0.0338 - val_accuracy: 0.9900\n",
      "Epoch 63/100\n",
      " - 13s - loss: 0.0255 - accuracy: 0.9916 - val_loss: 0.0399 - val_accuracy: 0.9898\n",
      "Epoch 64/100\n",
      " - 12s - loss: 0.0268 - accuracy: 0.9914 - val_loss: 0.0316 - val_accuracy: 0.9914\n",
      "Epoch 65/100\n",
      " - 13s - loss: 0.0284 - accuracy: 0.9909 - val_loss: 0.0301 - val_accuracy: 0.9921\n",
      "Epoch 66/100\n",
      " - 12s - loss: 0.0260 - accuracy: 0.9915 - val_loss: 0.0384 - val_accuracy: 0.9907\n",
      "Epoch 67/100\n",
      " - 14s - loss: 0.0254 - accuracy: 0.9915 - val_loss: 0.0325 - val_accuracy: 0.9907\n",
      "Epoch 68/100\n",
      " - 13s - loss: 0.0255 - accuracy: 0.9917 - val_loss: 0.0316 - val_accuracy: 0.9914\n",
      "Epoch 69/100\n",
      " - 13s - loss: 0.0268 - accuracy: 0.9913 - val_loss: 0.0385 - val_accuracy: 0.9895\n",
      "Epoch 70/100\n",
      " - 14s - loss: 0.0234 - accuracy: 0.9921 - val_loss: 0.0408 - val_accuracy: 0.9895\n",
      "Epoch 71/100\n",
      " - 12s - loss: 0.0255 - accuracy: 0.9911 - val_loss: 0.0335 - val_accuracy: 0.9907\n",
      "Epoch 72/100\n",
      " - 15s - loss: 0.0257 - accuracy: 0.9919 - val_loss: 0.0395 - val_accuracy: 0.9888\n",
      "Epoch 73/100\n",
      " - 12s - loss: 0.0280 - accuracy: 0.9910 - val_loss: 0.0389 - val_accuracy: 0.9902\n",
      "Epoch 74/100\n",
      " - 12s - loss: 0.0244 - accuracy: 0.9922 - val_loss: 0.0380 - val_accuracy: 0.9898\n",
      "Epoch 75/100\n",
      " - 13s - loss: 0.0245 - accuracy: 0.9922 - val_loss: 0.0346 - val_accuracy: 0.9902\n",
      "Epoch 76/100\n",
      " - 13s - loss: 0.0242 - accuracy: 0.9921 - val_loss: 0.0322 - val_accuracy: 0.9914\n",
      "Epoch 77/100\n",
      " - 13s - loss: 0.0242 - accuracy: 0.9922 - val_loss: 0.0368 - val_accuracy: 0.9898\n",
      "Epoch 78/100\n",
      " - 12s - loss: 0.0236 - accuracy: 0.9926 - val_loss: 0.0423 - val_accuracy: 0.9900\n",
      "Epoch 79/100\n",
      " - 12s - loss: 0.0253 - accuracy: 0.9917 - val_loss: 0.0405 - val_accuracy: 0.9888\n",
      "Epoch 80/100\n",
      " - 13s - loss: 0.0238 - accuracy: 0.9916 - val_loss: 0.0339 - val_accuracy: 0.9898\n",
      "Epoch 81/100\n",
      " - 13s - loss: 0.0225 - accuracy: 0.9925 - val_loss: 0.0422 - val_accuracy: 0.9895\n",
      "Epoch 82/100\n",
      " - 14s - loss: 0.0241 - accuracy: 0.9926 - val_loss: 0.0374 - val_accuracy: 0.9883\n",
      "Epoch 83/100\n",
      " - 12s - loss: 0.0240 - accuracy: 0.9923 - val_loss: 0.0334 - val_accuracy: 0.9893\n",
      "Epoch 84/100\n",
      " - 12s - loss: 0.0233 - accuracy: 0.9928 - val_loss: 0.0434 - val_accuracy: 0.9886\n",
      "Epoch 85/100\n",
      " - 13s - loss: 0.0248 - accuracy: 0.9916 - val_loss: 0.0282 - val_accuracy: 0.9910\n",
      "Epoch 86/100\n",
      " - 13s - loss: 0.0235 - accuracy: 0.9922 - val_loss: 0.0353 - val_accuracy: 0.9898\n",
      "Epoch 87/100\n",
      " - 13s - loss: 0.0225 - accuracy: 0.9932 - val_loss: 0.0365 - val_accuracy: 0.9890\n",
      "Epoch 88/100\n",
      " - 12s - loss: 0.0198 - accuracy: 0.9936 - val_loss: 0.0364 - val_accuracy: 0.9895\n",
      "Epoch 89/100\n",
      " - 12s - loss: 0.0217 - accuracy: 0.9930 - val_loss: 0.0359 - val_accuracy: 0.9910\n",
      "Epoch 90/100\n",
      " - 12s - loss: 0.0221 - accuracy: 0.9928 - val_loss: 0.0363 - val_accuracy: 0.9895\n",
      "Epoch 91/100\n",
      " - 13s - loss: 0.0217 - accuracy: 0.9932 - val_loss: 0.0346 - val_accuracy: 0.9905\n",
      "Epoch 92/100\n",
      " - 12s - loss: 0.0230 - accuracy: 0.9923 - val_loss: 0.0303 - val_accuracy: 0.9907\n",
      "Epoch 93/100\n",
      " - 12s - loss: 0.0239 - accuracy: 0.9922 - val_loss: 0.0415 - val_accuracy: 0.9895\n",
      "Epoch 94/100\n",
      " - 12s - loss: 0.0215 - accuracy: 0.9926 - val_loss: 0.0419 - val_accuracy: 0.9886\n",
      "Epoch 95/100\n",
      " - 12s - loss: 0.0206 - accuracy: 0.9932 - val_loss: 0.0397 - val_accuracy: 0.9900\n",
      "Epoch 96/100\n",
      " - 13s - loss: 0.0212 - accuracy: 0.9926 - val_loss: 0.0354 - val_accuracy: 0.9905\n",
      "Epoch 97/100\n",
      " - 12s - loss: 0.0197 - accuracy: 0.9935 - val_loss: 0.0329 - val_accuracy: 0.9914\n",
      "Epoch 98/100\n",
      " - 12s - loss: 0.0214 - accuracy: 0.9927 - val_loss: 0.0317 - val_accuracy: 0.9895\n",
      "Epoch 99/100\n",
      " - 12s - loss: 0.0223 - accuracy: 0.9929 - val_loss: 0.0378 - val_accuracy: 0.9905\n",
      "Epoch 100/100\n",
      " - 12s - loss: 0.0207 - accuracy: 0.9932 - val_loss: 0.0382 - val_accuracy: 0.9910\n"
     ]
    }
   ],
   "source": [
    "# fit the model\n",
    "history = classifier.fit(datagen.flow(X_train,y_train,batch_size=128),\n",
    "                         epochs=100,\n",
    "                         steps_per_epoch = X_train.shape[0]//128, \n",
    "                         validation_data=(X_val,y_val),\n",
    "                         verbose=2)"
   ]
  },
  {
   "cell_type": "code",
   "execution_count": 10,
   "metadata": {
    "execution": {
     "iopub.execute_input": "2020-10-29T17:26:03.717988Z",
     "iopub.status.busy": "2020-10-29T17:26:03.717183Z",
     "iopub.status.idle": "2020-10-29T17:26:03.741326Z",
     "shell.execute_reply": "2020-10-29T17:26:03.740768Z"
    },
    "papermill": {
     "duration": 0.116978,
     "end_time": "2020-10-29T17:26:03.741465",
     "exception": false,
     "start_time": "2020-10-29T17:26:03.624487",
     "status": "completed"
    },
    "tags": []
   },
   "outputs": [],
   "source": [
    "model_json = classifier.to_json()\n",
    "with open(\"./model_in_json.json\",\"w\") as json_file:\n",
    "    json.dump(model_json, json_file)\n",
    "    \n",
    "#  save model\n",
    "classifier.save_weights(\"./model.h5\")"
   ]
  },
  {
   "cell_type": "code",
   "execution_count": 11,
   "metadata": {
    "execution": {
     "iopub.execute_input": "2020-10-29T17:26:03.946989Z",
     "iopub.status.busy": "2020-10-29T17:26:03.945019Z",
     "iopub.status.idle": "2020-10-29T17:26:04.446398Z",
     "shell.execute_reply": "2020-10-29T17:26:04.447844Z"
    },
    "papermill": {
     "duration": 0.621263,
     "end_time": "2020-10-29T17:26:04.448046",
     "exception": false,
     "start_time": "2020-10-29T17:26:03.826783",
     "status": "completed"
    },
    "tags": []
   },
   "outputs": [
    {
     "data": {
      "image/png": "[encoded data removed]",
      "text/plain": [
       "<Figure size 432x288 with 1 Axes>"
      ]
     },
     "metadata": {
      "needs_background": "light"
     },
     "output_type": "display_data"
    }
   ],
   "source": [
    "# Drawing plots\n",
    "import matplotlib.pyplot as plt\n",
    "\n",
    "epochs = [i for i in range(1, len(history.history['loss'])+1)]\n",
    "\n",
    "plt.plot(epochs, history.history['loss'], color='blue', label=\"training_loss\")\n",
    "plt.plot(epochs, history.history['val_loss'], color='red', label=\"validation_loss\")\n",
    "plt.legend(loc='best')\n",
    "plt.title('training')\n",
    "plt.xlabel('epoch')\n",
    "plt.savefig(\"./loss.jpg\", bbox_inches='tight')"
   ]
  },
  {
   "cell_type": "code",
   "execution_count": 12,
   "metadata": {
    "execution": {
     "iopub.execute_input": "2020-10-29T17:26:04.777200Z",
     "iopub.status.busy": "2020-10-29T17:26:04.776125Z",
     "iopub.status.idle": "2020-10-29T17:26:05.144964Z",
     "shell.execute_reply": "2020-10-29T17:26:05.144295Z"
    },
    "papermill": {
     "duration": 0.527773,
     "end_time": "2020-10-29T17:26:05.145098",
     "exception": false,
     "start_time": "2020-10-29T17:26:04.617325",
     "status": "completed"
    },
    "tags": []
   },
   "outputs": [
    {
     "data": {
      "image/png": "[encoded data removed]",
      "text/plain": [
       "<Figure size 432x288 with 1 Axes>"
      ]
     },
     "metadata": {
      "needs_background": "light"
     },
     "output_type": "display_data"
    }
   ],
   "source": [
    "plt.plot(epochs, history.history['accuracy'], color='blue', label=\"training_accuracy\")\n",
    "plt.plot(epochs, history.history['val_accuracy'], color='red',label=\"validation_accuracy\")\n",
    "plt.legend(loc='best')\n",
    "plt.title('validation')\n",
    "plt.xlabel('epoch')\n",
    "plt.savefig(\"./acc.jpg\", bbox_inches='tight')"
   ]
  },
  {
   "cell_type": "code",
   "execution_count": 13,
   "metadata": {
    "execution": {
     "iopub.execute_input": "2020-10-29T17:26:05.341175Z",
     "iopub.status.busy": "2020-10-29T17:26:05.340284Z",
     "iopub.status.idle": "2020-10-29T17:26:08.123674Z",
     "shell.execute_reply": "2020-10-29T17:26:08.122576Z"
    },
    "papermill": {
     "duration": 2.880681,
     "end_time": "2020-10-29T17:26:08.123799",
     "exception": false,
     "start_time": "2020-10-29T17:26:05.243118",
     "status": "completed"
    },
    "tags": []
   },
   "outputs": [],
   "source": [
    "# submission\n",
    "pred = classifier.predict(test)\n",
    "\n",
    "y_pred = []\n",
    "for i in pred:\n",
    "    y_pred.append(i.tolist().index(i.max()))\n",
    "    \n",
    "dict = {'ImageId':[],'Label':[]}\n",
    "\n",
    "for id, label in zip(range(1,pred.shape[0]+1),y_pred):\n",
    "    dict.setdefault('ImageId',[]).append(id)\n",
    "    dict.setdefault('Label',[]).append(label)\n",
    "\n",
    "submission = pd.DataFrame(dict)\n",
    "submission.to_csv(\"Submission.csv\",index=False)"
   ]
  },
  {
   "cell_type": "code",
   "execution_count": null,
   "metadata": {
    "papermill": {
     "duration": 0.090114,
     "end_time": "2020-10-29T17:26:08.304552",
     "exception": false,
     "start_time": "2020-10-29T17:26:08.214438",
     "status": "completed"
    },
    "tags": []
   },
   "outputs": [],
   "source": []
  }
 ],
 "metadata": {
  "kernelspec": {
   "display_name": "Python 3",
   "language": "python",
   "name": "python3"
  },
  "language_info": {
   "codemirror_mode": {
    "name": "ipython",
    "version": 3
   },
   "file_extension": ".py",
   "mimetype": "text/x-python",
   "name": "python",
   "nbconvert_exporter": "python",
   "pygments_lexer": "ipython3",
   "version": "3.7.6"
  },
  "papermill": {
   "duration": 1289.502791,
   "end_time": "2020-10-29T17:26:09.676199",
   "environment_variables": {},
   "exception": null,
   "input_path": "__notebook__.ipynb",
   "output_path": "__notebook__.ipynb",
   "parameters": {},
   "start_time": "2020-10-29T17:04:40.173408",
   "version": "2.1.0"
  }
 },
 "nbformat": 4,
 "nbformat_minor": 4
}
